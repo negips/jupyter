{
 "cells": [
  {
   "cell_type": "markdown",
   "metadata": {},
   "source": [
    "# This is the first notebook"
   ]
  },
  {
   "cell_type": "markdown",
   "metadata": {},
   "source": [
    "## We are going to jump directly to test Optimally-time-dependent modes"
   ]
  },
  {
   "cell_type": "markdown",
   "metadata": {},
   "source": [
    "So lets begin..."
   ]
  },
  {
   "cell_type": "markdown",
   "metadata": {},
   "source": [
    "How do we run a julia script again?"
   ]
  },
  {
   "cell_type": "markdown",
   "metadata": {},
   "source": [
    "Can I just call a script? Let me try..."
   ]
  },
  {
   "cell_type": "markdown",
   "metadata": {},
   "source": [
    "So it turns out matplotlib needs to change its backend. But when I do that the plot opens up in an external window instead of \"inline\"."
   ]
  },
  {
   "cell_type": "markdown",
   "metadata": {},
   "source": [
    "Yeah...continuous plotting seems like a bitch..."
   ]
  },
  {
   "cell_type": "code",
   "execution_count": 12,
   "metadata": {},
   "outputs": [],
   "source": [
    "#matplotlib = pyimport(\"matplotlib\")\n",
    "#matplotlib.use(\"tkagg\")\n",
    "#matplotlib.use(\"nbAgg\")\n",
    "#matplotlib.use(\"TkAgg\")"
   ]
  },
  {
   "cell_type": "code",
   "execution_count": 2,
   "metadata": {},
   "outputs": [],
   "source": [
    "import Pkg\n",
    "\n",
    "#using Blink\n",
    "using Colors,PyCall\n",
    "using PyPlot\n",
    "#using Plots\n",
    "# using Plotly\n",
    "using LinearAlgebra\n",
    "using IJulia\n",
    "\n",
    "#pygui(false);\n",
    "#pygui(:tk)"
   ]
  },
  {
   "cell_type": "code",
   "execution_count": 18,
   "metadata": {},
   "outputs": [
    {
     "data": {
      "text/latex": [
       "The analogue of IPython's \\texttt{\\%matplotlib} in Julia is to use the \\href{https://github.com/stevengj/PyPlot.jl}{PyPlot package}, which gives a Julia interface to Matplotlib including inline plots in IJulia notebooks.   (The equivalent of \\texttt{numpy} is already loaded by default in Julia.)\n",
       "\n",
       "Given PyPlot, the analogue of \\texttt{\\%matplotlib inline} is \\texttt{using PyPlot}, since PyPlot defaults to inline plots in IJulia.\n",
       "\n",
       "To enable separate GUI windows in PyPlot, analogous to \\texttt{\\%matplotlib}, do \\texttt{using PyPlot; pygui(true)}.   To specify a particular gui backend, analogous to \\texttt{\\%matplotlib gui}, you can either do \\texttt{using PyPlot; pygui(:gui); using PyPlot; pygui(true)} (where \\texttt{gui} is \\texttt{wx}, \\texttt{qt}, \\texttt{tk}, or \\texttt{gtk}), or you can do \\texttt{ENV[\"MPLBACKEND\"]=backend; using PyPlot; pygui(true)} (where \\texttt{backend} is the name of a Matplotlib backend, like \\texttt{tkagg}).\n",
       "\n",
       "For more options, see the PyPlot documentation.\n",
       "\n"
      ],
      "text/markdown": [
       "The analogue of IPython's `%matplotlib` in Julia is to use the [PyPlot package](https://github.com/stevengj/PyPlot.jl), which gives a Julia interface to Matplotlib including inline plots in IJulia notebooks.   (The equivalent of `numpy` is already loaded by default in Julia.)\n",
       "\n",
       "Given PyPlot, the analogue of `%matplotlib inline` is `using PyPlot`, since PyPlot defaults to inline plots in IJulia.\n",
       "\n",
       "To enable separate GUI windows in PyPlot, analogous to `%matplotlib`, do `using PyPlot; pygui(true)`.   To specify a particular gui backend, analogous to `%matplotlib gui`, you can either do `using PyPlot; pygui(:gui); using PyPlot; pygui(true)` (where `gui` is `wx`, `qt`, `tk`, or `gtk`), or you can do `ENV[\"MPLBACKEND\"]=backend; using PyPlot; pygui(true)` (where `backend` is the name of a Matplotlib backend, like `tkagg`).\n",
       "\n",
       "For more options, see the PyPlot documentation.\n"
      ],
      "text/plain": [
       "  The analogue of IPython's \u001b[36m%matplotlib\u001b[39m in Julia is to use the PyPlot package\n",
       "  (https://github.com/stevengj/PyPlot.jl), which gives a Julia interface to\n",
       "  Matplotlib including inline plots in IJulia notebooks. (The equivalent of\n",
       "  \u001b[36mnumpy\u001b[39m is already loaded by default in Julia.)\n",
       "\n",
       "  Given PyPlot, the analogue of \u001b[36m%matplotlib inline\u001b[39m is \u001b[36musing PyPlot\u001b[39m, since\n",
       "  PyPlot defaults to inline plots in IJulia.\n",
       "\n",
       "  To enable separate GUI windows in PyPlot, analogous to \u001b[36m%matplotlib\u001b[39m, do \u001b[36musing\n",
       "  PyPlot; pygui(true)\u001b[39m. To specify a particular gui backend, analogous to\n",
       "  \u001b[36m%matplotlib gui\u001b[39m, you can either do \u001b[36musing PyPlot; pygui(:gui); using PyPlot;\n",
       "  pygui(true)\u001b[39m (where \u001b[36mgui\u001b[39m is \u001b[36mwx\u001b[39m, \u001b[36mqt\u001b[39m, \u001b[36mtk\u001b[39m, or \u001b[36mgtk\u001b[39m), or you can do\n",
       "  \u001b[36mENV[\"MPLBACKEND\"]=backend; using PyPlot; pygui(true)\u001b[39m (where \u001b[36mbackend\u001b[39m is the\n",
       "  name of a Matplotlib backend, like \u001b[36mtkagg\u001b[39m).\n",
       "\n",
       "  For more options, see the PyPlot documentation."
      ]
     },
     "metadata": {},
     "output_type": "display_data"
    }
   ],
   "source": [
    "%matplotlib notebook\n",
    "#include(\"OTD_2d.jl\")"
   ]
  },
  {
   "cell_type": "markdown",
   "metadata": {},
   "source": [
    "Lets try another example first"
   ]
  },
  {
   "cell_type": "code",
   "execution_count": 56,
   "metadata": {},
   "outputs": [
    {
     "data": {
      "image/png": "[encoded data removed]",
      "text/plain": [
       "Figure(PyObject <Figure size 640x480 with 1 Axes>)"
      ]
     },
     "metadata": {},
     "output_type": "display_data"
    }
   ],
   "source": [
    "pl = plot(1:10);\n",
    "ax1 = gca();"
   ]
  },
  {
   "cell_type": "code",
   "execution_count": 73,
   "metadata": {},
   "outputs": [
    {
     "data": {
      "text/plain": [
       "PyObject <matplotlib.lines.Line2D object at 0x7fa095f607c0>"
      ]
     },
     "metadata": {},
     "output_type": "display_data"
    },
    {
     "data": {
      "text/plain": [
       "PyObject <matplotlib.lines.Line2D object at 0x7fa095f601f0>"
      ]
     },
     "metadata": {},
     "output_type": "display_data"
    },
    {
     "data": {
      "text/plain": [
       "PyObject <matplotlib.lines.Line2D object at 0x7fa095f60400>"
      ]
     },
     "metadata": {},
     "output_type": "display_data"
    },
    {
     "data": {
      "text/plain": [
       "PyObject <matplotlib.lines.Line2D object at 0x7fa0963c1340>"
      ]
     },
     "metadata": {},
     "output_type": "display_data"
    },
    {
     "data": {
      "text/plain": [
       "PyObject <matplotlib.lines.Line2D object at 0x7fa0963c1b80>"
      ]
     },
     "metadata": {},
     "output_type": "display_data"
    },
    {
     "data": {
      "text/plain": [
       "PyObject <matplotlib.lines.Line2D object at 0x7fa0964867f0>"
      ]
     },
     "metadata": {},
     "output_type": "display_data"
    },
    {
     "data": {
      "text/plain": [
       "PyObject <matplotlib.lines.Line2D object at 0x7fa096486f10>"
      ]
     },
     "metadata": {},
     "output_type": "display_data"
    },
    {
     "data": {
      "text/plain": [
       "PyObject <matplotlib.lines.Line2D object at 0x7fa096486820>"
      ]
     },
     "metadata": {},
     "output_type": "display_data"
    },
    {
     "data": {
      "text/plain": [
       "PyObject <matplotlib.lines.Line2D object at 0x7fa096486a90>"
      ]
     },
     "metadata": {},
     "output_type": "display_data"
    },
    {
     "data": {
      "text/plain": [
       "PyObject <matplotlib.lines.Line2D object at 0x7fa0964927f0>"
      ]
     },
     "metadata": {},
     "output_type": "display_data"
    },
    {
     "data": {
      "image/png": "[encoded data removed]",
      "text/plain": [
       "Figure(PyObject <Figure size 640x480 with 1 Axes>)"
      ]
     },
     "metadata": {},
     "output_type": "display_data"
    }
   ],
   "source": [
    "# using PyPlot\n",
    "interactive=false\n",
    "walk = [0.0]\n",
    "for ii in 1:10\n",
    "    global pl, ax1\n",
    "    if (ii>1)\n",
    "        #pl[1].remove();\n",
    "    end    \n",
    "    step = 2rand()-1.0\n",
    "    push!(walk, walk[end]+step)\n",
    "    pl = plot(1:length(walk), walk)\n",
    "    pygui(false)\n",
    "    IJulia.display(pl[1])\n",
    "    #IJulia.clear_output(true) #Passing true says to wait until new ouput before clearing, this prevents flickering\n",
    "    sleep(0.1)\n",
    "end\n"
   ]
  },
  {
   "cell_type": "code",
   "execution_count": 65,
   "metadata": {},
   "outputs": [
    {
     "ename": "MethodError",
     "evalue": "MethodError: no method matching getindex(::Nothing, ::Int64)",
     "output_type": "error",
     "traceback": [
      "MethodError: no method matching getindex(::Nothing, ::Int64)",
      "",
      "Stacktrace:",
      " [1] top-level scope at In[65]:1"
     ]
    }
   ],
   "source": []
  },
  {
   "cell_type": "code",
   "execution_count": null,
   "metadata": {},
   "outputs": [],
   "source": []
  }
 ],
 "metadata": {
  "kernelspec": {
   "display_name": "Julia 1.4.1",
   "language": "julia",
   "name": "julia-1.4"
  },
  "language_info": {
   "file_extension": ".jl",
   "mimetype": "application/julia",
   "name": "julia",
   "version": "1.4.1"
  }
 },
 "nbformat": 4,
 "nbformat_minor": 4
}
